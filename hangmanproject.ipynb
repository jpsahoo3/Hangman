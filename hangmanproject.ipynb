from random import choice

def wordGenerator():
    with open("HangMan.txt","r") as f:
        lines = f.readlines()
        #print(lines)
    f.close()
    lines = [i.strip("\n") for i in lines]
    return choice(lines)

word = wordGenerator()
guessed =""
turns = int(len(word)*1.5)
while(True):
    print("You are left with {} turns".format(turns))
    inp = input("\nGuess A Character : ")
    turns = turns - 1

    if inp in word:
        guessed = guessed + inp
    unguessedChar = 0
    for i in word:
        if i in guessed:
            print(i,end="")
        else:
            unguessedChar +=1
            print("*",end="")
    if unguessedChar == 0:
        print("You won..")
        break
    if turns==0:
        print("\nYour ran out attempts")
        break

['python\n', 'vizag\n', 'bangalore\n', 'kolkata\n', 'jamshedpur\n', 'hyderbad\n', 'guntur\n', 'mumbai\n', 'chennai']
You are left with 13 turns

Guess A Character : y
*****You are left with 12 turns

Guess A Character : o
***o*You are left with 11 turns

Guess A Character : k
***o*You are left with 10 turns

Guess A Character : a
aa*o*You are left with 9 turns

Guess A Character : b
ba*a*o*You are left with 8 turns

Guess A Character : n
ban*a*o**You are left with 7 turns

Guess A Character : g
banga*o**You are left with 6 turns

Guess A Character : l
bangalo**You are left with 5 turns

Guess A Character : e
bangalo*eYou are left with 4 turns

Guess A Character : r
bangaloreYou won..